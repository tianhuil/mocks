{
 "cells": [
  {
   "cell_type": "markdown",
   "metadata": {},
   "source": [
    "## Question 5\n",
    "\n",
    "Train your model on the the [training data set](x).  \n",
    "1. The data is provided as `json` objects.  You'll need to [vectorize it](x) for training.\n",
    "2. Notice that the city field is sometimes not present.  You'll have to handle this manually.\n",
    "3. The model needs to be persisted as a pickle file."
   ]
  },
  {
   "cell_type": "code",
   "execution_count": 30,
   "metadata": {
    "collapsed": false
   },
   "outputs": [
    {
     "data": {
      "text/html": [
       "<div>\n",
       "<table border=\"1\" class=\"dataframe\">\n",
       "  <thead>\n",
       "    <tr style=\"text-align: right;\">\n",
       "      <th></th>\n",
       "      <th>Score</th>\n",
       "    </tr>\n",
       "    <tr>\n",
       "      <th>Question</th>\n",
       "      <th></th>\n",
       "    </tr>\n",
       "  </thead>\n",
       "  <tbody>\n",
       "    <tr>\n",
       "      <th>ratings_prediction</th>\n",
       "      <td>0.85/1.00</td>\n",
       "    </tr>\n",
       "  </tbody>\n",
       "</table>\n",
       "</div>"
      ],
      "text/plain": [
       "                        Score\n",
       "Question                     \n",
       "ratings_prediction  0.85/1.00"
      ]
     },
     "execution_count": 30,
     "metadata": {},
     "output_type": "execute_result"
    }
   ],
   "source": [
    "import pickle\n",
    "\n",
    "with open(\"model.pkl\") as fh:\n",
    "    model = pickle.load(fh)\n",
    "    \n",
    "with open(\"vectorizer.pkl\") as fh:\n",
    "    vectorizer = pickle.load(fh)\n",
    "\n",
    "def ratings_prediction(restaurant_data):\n",
    "    restaurant_data['city'] = restaurant_data.get('city', 'Default')\n",
    "    vec = vectorizer.vectorize(restaurant_data)\n",
    "    return model.predict(vec)\n",
    "\n",
    "score(ratings_prediction)"
   ]
  }
 ],
 "metadata": {
  "kernelspec": {
   "display_name": "Python 2",
   "language": "python",
   "name": "python2"
  },
  "language_info": {
   "codemirror_mode": {
    "name": "ipython",
    "version": 2
   },
   "file_extension": ".py",
   "mimetype": "text/x-python",
   "name": "python",
   "nbconvert_exporter": "python",
   "pygments_lexer": "ipython2",
   "version": "2.7.12"
  }
 },
 "nbformat": 4,
 "nbformat_minor": 1
}
